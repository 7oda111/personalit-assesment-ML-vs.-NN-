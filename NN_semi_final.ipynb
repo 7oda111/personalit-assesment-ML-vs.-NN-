{
  "nbformat": 4,
  "nbformat_minor": 0,
  "metadata": {
    "colab": {
      "name": "NN-semi final",
      "provenance": [],
      "authorship_tag": "ABX9TyMXmDWWFMPb2yafUytQUhHg",
      "include_colab_link": true
    },
    "kernelspec": {
      "name": "python3",
      "display_name": "Python 3"
    },
    "language_info": {
      "name": "python"
    }
  },
  "cells": [
    {
      "cell_type": "markdown",
      "metadata": {
        "id": "view-in-github",
        "colab_type": "text"
      },
      "source": [
        "<a href=\"https://colab.research.google.com/github/7oda111/personalit-assesment-ML-vs.-NN-/blob/main/NN_semi_final.ipynb\" target=\"_parent\"><img src=\"https://colab.research.google.com/assets/colab-badge.svg\" alt=\"Open In Colab\"/></a>"
      ]
    },
    {
      "cell_type": "markdown",
      "source": [
        " personality assesment "
      ],
      "metadata": {
        "id": "8Q51373UBmo1"
      }
    },
    {
      "cell_type": "markdown",
      "source": [
        "personality assesment with a CNN network to evaluate the charaters on have through neural network applications . with the help of fully connected neurons "
      ],
      "metadata": {
        "id": "rILSOsmuAp0O"
      }
    },
    {
      "cell_type": "markdown",
      "source": [
        "this part of code connect colab libraries tto the gogle drivers folders so that the one can be able to import the nesscisary to be applied to with the CNN "
      ],
      "metadata": {
        "id": "xgTHdbHzA_Gi"
      }
    },
    {
      "cell_type": "code",
      "execution_count": 1,
      "metadata": {
        "colab": {
          "base_uri": "https://localhost:8080/"
        },
        "id": "-4kEEPanT9qY",
        "outputId": "2f7d1028-b74b-4e90-ceda-1f30d3ecd546"
      },
      "outputs": [
        {
          "output_type": "stream",
          "name": "stdout",
          "text": [
            "Mounted at /content/drive\n"
          ]
        }
      ],
      "source": [
        "from google.colab import drive\n",
        "drive.mount('/content/drive')"
      ]
    },
    {
      "cell_type": "markdown",
      "source": [
        "importing the nessisary libraries for the first part of the code , which is importing the dataset "
      ],
      "metadata": {
        "id": "R6Sym9H1ByUB"
      }
    },
    {
      "cell_type": "code",
      "source": [
        "import numpy as np \n",
        "import pandas as pd\n",
        "import matplotlib.pyplot as plt \n",
        "import tensorflow as tf\n",
        "%matplotlib inline"
      ],
      "metadata": {
        "id": "gm-v2fG0UZ-V"
      },
      "execution_count": 2,
      "outputs": []
    },
    {
      "cell_type": "markdown",
      "source": [
        "importing the dataset from google drive and maing a copy , so that the original one don't get damaged "
      ],
      "metadata": {
        "id": "EPZSrywcCAxm"
      }
    },
    {
      "cell_type": "code",
      "source": [
        "data_raw_train = pd.read_csv('/content/drive/MyDrive/dataset folder/trait_scoring_keys.csv')\n",
        "data_train = data_raw_train.copy()"
      ],
      "metadata": {
        "id": "vSBHrFFdYcwm"
      },
      "execution_count": 6,
      "outputs": []
    },
    {
      "cell_type": "markdown",
      "source": [
        "doing some data preprocessing thechniques like head method to see the first 10 raws in the dataset . \n",
        "another one is describe to find the main characters of the dataset like the mean , count, std('standard deviation')\n",
        "the shape method is used to find the dimensios of the data set "
      ],
      "metadata": {
        "id": "mjFdzHtpCaRs"
      }
    },
    {
      "cell_type": "code",
      "source": [
        " data_train.head()"
      ],
      "metadata": {
        "colab": {
          "base_uri": "https://localhost:8080/",
          "height": 206
        },
        "id": "_hU8LmOjZVKb",
        "outputId": "abd17e91-aafc-48a1-e604-953a2688a3b1"
      },
      "execution_count": 7,
      "outputs": [
        {
          "output_type": "execute_result",
          "data": {
            "text/html": [
              "\n",
              "  <div id=\"df-e61f264f-7911-4f0b-b858-1bb8db5160ab\">\n",
              "    <div class=\"colab-df-container\">\n",
              "      <div>\n",
              "<style scoped>\n",
              "    .dataframe tbody tr th:only-of-type {\n",
              "        vertical-align: middle;\n",
              "    }\n",
              "\n",
              "    .dataframe tbody tr th {\n",
              "        vertical-align: top;\n",
              "    }\n",
              "\n",
              "    .dataframe thead th {\n",
              "        text-align: right;\n",
              "    }\n",
              "</style>\n",
              "<table border=\"1\" class=\"dataframe\">\n",
              "  <thead>\n",
              "    <tr style=\"text-align: right;\">\n",
              "      <th></th>\n",
              "      <th>id</th>\n",
              "      <th>full_position</th>\n",
              "      <th>short_position</th>\n",
              "      <th>sign</th>\n",
              "      <th>key</th>\n",
              "      <th>facet</th>\n",
              "      <th>item</th>\n",
              "    </tr>\n",
              "  </thead>\n",
              "  <tbody>\n",
              "    <tr>\n",
              "      <th>0</th>\n",
              "      <td>1</td>\n",
              "      <td>1</td>\n",
              "      <td>1.0</td>\n",
              "      <td>+N1</td>\n",
              "      <td>N1</td>\n",
              "      <td>Anxiety</td>\n",
              "      <td>Worry about things.</td>\n",
              "    </tr>\n",
              "    <tr>\n",
              "      <th>1</th>\n",
              "      <td>2</td>\n",
              "      <td>2</td>\n",
              "      <td>2.0</td>\n",
              "      <td>+E1</td>\n",
              "      <td>E1</td>\n",
              "      <td>Friendliness</td>\n",
              "      <td>Make friends easily.</td>\n",
              "    </tr>\n",
              "    <tr>\n",
              "      <th>2</th>\n",
              "      <td>3</td>\n",
              "      <td>3</td>\n",
              "      <td>3.0</td>\n",
              "      <td>+O1</td>\n",
              "      <td>O1</td>\n",
              "      <td>Imagination</td>\n",
              "      <td>Have a vivid imagination.</td>\n",
              "    </tr>\n",
              "    <tr>\n",
              "      <th>3</th>\n",
              "      <td>4</td>\n",
              "      <td>4</td>\n",
              "      <td>4.0</td>\n",
              "      <td>+A1</td>\n",
              "      <td>A1</td>\n",
              "      <td>Trust</td>\n",
              "      <td>Trust others.</td>\n",
              "    </tr>\n",
              "    <tr>\n",
              "      <th>4</th>\n",
              "      <td>5</td>\n",
              "      <td>5</td>\n",
              "      <td>5.0</td>\n",
              "      <td>+C1</td>\n",
              "      <td>C1</td>\n",
              "      <td>Self-Efficacy</td>\n",
              "      <td>Complete tasks successfully.</td>\n",
              "    </tr>\n",
              "  </tbody>\n",
              "</table>\n",
              "</div>\n",
              "      <button class=\"colab-df-convert\" onclick=\"convertToInteractive('df-e61f264f-7911-4f0b-b858-1bb8db5160ab')\"\n",
              "              title=\"Convert this dataframe to an interactive table.\"\n",
              "              style=\"display:none;\">\n",
              "        \n",
              "  <svg xmlns=\"http://www.w3.org/2000/svg\" height=\"24px\"viewBox=\"0 0 24 24\"\n",
              "       width=\"24px\">\n",
              "    <path d=\"M0 0h24v24H0V0z\" fill=\"none\"/>\n",
              "    <path d=\"M18.56 5.44l.94 2.06.94-2.06 2.06-.94-2.06-.94-.94-2.06-.94 2.06-2.06.94zm-11 1L8.5 8.5l.94-2.06 2.06-.94-2.06-.94L8.5 2.5l-.94 2.06-2.06.94zm10 10l.94 2.06.94-2.06 2.06-.94-2.06-.94-.94-2.06-.94 2.06-2.06.94z\"/><path d=\"M17.41 7.96l-1.37-1.37c-.4-.4-.92-.59-1.43-.59-.52 0-1.04.2-1.43.59L10.3 9.45l-7.72 7.72c-.78.78-.78 2.05 0 2.83L4 21.41c.39.39.9.59 1.41.59.51 0 1.02-.2 1.41-.59l7.78-7.78 2.81-2.81c.8-.78.8-2.07 0-2.86zM5.41 20L4 18.59l7.72-7.72 1.47 1.35L5.41 20z\"/>\n",
              "  </svg>\n",
              "      </button>\n",
              "      \n",
              "  <style>\n",
              "    .colab-df-container {\n",
              "      display:flex;\n",
              "      flex-wrap:wrap;\n",
              "      gap: 12px;\n",
              "    }\n",
              "\n",
              "    .colab-df-convert {\n",
              "      background-color: #E8F0FE;\n",
              "      border: none;\n",
              "      border-radius: 50%;\n",
              "      cursor: pointer;\n",
              "      display: none;\n",
              "      fill: #1967D2;\n",
              "      height: 32px;\n",
              "      padding: 0 0 0 0;\n",
              "      width: 32px;\n",
              "    }\n",
              "\n",
              "    .colab-df-convert:hover {\n",
              "      background-color: #E2EBFA;\n",
              "      box-shadow: 0px 1px 2px rgba(60, 64, 67, 0.3), 0px 1px 3px 1px rgba(60, 64, 67, 0.15);\n",
              "      fill: #174EA6;\n",
              "    }\n",
              "\n",
              "    [theme=dark] .colab-df-convert {\n",
              "      background-color: #3B4455;\n",
              "      fill: #D2E3FC;\n",
              "    }\n",
              "\n",
              "    [theme=dark] .colab-df-convert:hover {\n",
              "      background-color: #434B5C;\n",
              "      box-shadow: 0px 1px 3px 1px rgba(0, 0, 0, 0.15);\n",
              "      filter: drop-shadow(0px 1px 2px rgba(0, 0, 0, 0.3));\n",
              "      fill: #FFFFFF;\n",
              "    }\n",
              "  </style>\n",
              "\n",
              "      <script>\n",
              "        const buttonEl =\n",
              "          document.querySelector('#df-e61f264f-7911-4f0b-b858-1bb8db5160ab button.colab-df-convert');\n",
              "        buttonEl.style.display =\n",
              "          google.colab.kernel.accessAllowed ? 'block' : 'none';\n",
              "\n",
              "        async function convertToInteractive(key) {\n",
              "          const element = document.querySelector('#df-e61f264f-7911-4f0b-b858-1bb8db5160ab');\n",
              "          const dataTable =\n",
              "            await google.colab.kernel.invokeFunction('convertToInteractive',\n",
              "                                                     [key], {});\n",
              "          if (!dataTable) return;\n",
              "\n",
              "          const docLinkHtml = 'Like what you see? Visit the ' +\n",
              "            '<a target=\"_blank\" href=https://colab.research.google.com/notebooks/data_table.ipynb>data table notebook</a>'\n",
              "            + ' to learn more about interactive tables.';\n",
              "          element.innerHTML = '';\n",
              "          dataTable['output_type'] = 'display_data';\n",
              "          await google.colab.output.renderOutput(dataTable, element);\n",
              "          const docLink = document.createElement('div');\n",
              "          docLink.innerHTML = docLinkHtml;\n",
              "          element.appendChild(docLink);\n",
              "        }\n",
              "      </script>\n",
              "    </div>\n",
              "  </div>\n",
              "  "
            ],
            "text/plain": [
              "   id  full_position  ...          facet                          item\n",
              "0   1              1  ...        Anxiety           Worry about things.\n",
              "1   2              2  ...   Friendliness          Make friends easily.\n",
              "2   3              3  ...    Imagination     Have a vivid imagination.\n",
              "3   4              4  ...          Trust                 Trust others.\n",
              "4   5              5  ...  Self-Efficacy  Complete tasks successfully.\n",
              "\n",
              "[5 rows x 7 columns]"
            ]
          },
          "metadata": {},
          "execution_count": 7
        }
      ]
    },
    {
      "cell_type": "code",
      "source": [
        "data_train.describe()"
      ],
      "metadata": {
        "colab": {
          "base_uri": "https://localhost:8080/",
          "height": 300
        },
        "id": "o76yKIvdZrS0",
        "outputId": "e281e6af-2f78-4f53-d8db-5d482c24af31"
      },
      "execution_count": 9,
      "outputs": [
        {
          "output_type": "execute_result",
          "data": {
            "text/html": [
              "\n",
              "  <div id=\"df-6803dea9-701d-453f-b0f0-d396fdaf05f0\">\n",
              "    <div class=\"colab-df-container\">\n",
              "      <div>\n",
              "<style scoped>\n",
              "    .dataframe tbody tr th:only-of-type {\n",
              "        vertical-align: middle;\n",
              "    }\n",
              "\n",
              "    .dataframe tbody tr th {\n",
              "        vertical-align: top;\n",
              "    }\n",
              "\n",
              "    .dataframe thead th {\n",
              "        text-align: right;\n",
              "    }\n",
              "</style>\n",
              "<table border=\"1\" class=\"dataframe\">\n",
              "  <thead>\n",
              "    <tr style=\"text-align: right;\">\n",
              "      <th></th>\n",
              "      <th>id</th>\n",
              "      <th>full_position</th>\n",
              "      <th>short_position</th>\n",
              "    </tr>\n",
              "  </thead>\n",
              "  <tbody>\n",
              "    <tr>\n",
              "      <th>count</th>\n",
              "      <td>300.000000</td>\n",
              "      <td>300.000000</td>\n",
              "      <td>120.000000</td>\n",
              "    </tr>\n",
              "    <tr>\n",
              "      <th>mean</th>\n",
              "      <td>150.500000</td>\n",
              "      <td>150.500000</td>\n",
              "      <td>60.500000</td>\n",
              "    </tr>\n",
              "    <tr>\n",
              "      <th>std</th>\n",
              "      <td>86.746758</td>\n",
              "      <td>86.746758</td>\n",
              "      <td>34.785054</td>\n",
              "    </tr>\n",
              "    <tr>\n",
              "      <th>min</th>\n",
              "      <td>1.000000</td>\n",
              "      <td>1.000000</td>\n",
              "      <td>1.000000</td>\n",
              "    </tr>\n",
              "    <tr>\n",
              "      <th>25%</th>\n",
              "      <td>75.750000</td>\n",
              "      <td>75.750000</td>\n",
              "      <td>30.750000</td>\n",
              "    </tr>\n",
              "    <tr>\n",
              "      <th>50%</th>\n",
              "      <td>150.500000</td>\n",
              "      <td>150.500000</td>\n",
              "      <td>60.500000</td>\n",
              "    </tr>\n",
              "    <tr>\n",
              "      <th>75%</th>\n",
              "      <td>225.250000</td>\n",
              "      <td>225.250000</td>\n",
              "      <td>90.250000</td>\n",
              "    </tr>\n",
              "    <tr>\n",
              "      <th>max</th>\n",
              "      <td>300.000000</td>\n",
              "      <td>300.000000</td>\n",
              "      <td>120.000000</td>\n",
              "    </tr>\n",
              "  </tbody>\n",
              "</table>\n",
              "</div>\n",
              "      <button class=\"colab-df-convert\" onclick=\"convertToInteractive('df-6803dea9-701d-453f-b0f0-d396fdaf05f0')\"\n",
              "              title=\"Convert this dataframe to an interactive table.\"\n",
              "              style=\"display:none;\">\n",
              "        \n",
              "  <svg xmlns=\"http://www.w3.org/2000/svg\" height=\"24px\"viewBox=\"0 0 24 24\"\n",
              "       width=\"24px\">\n",
              "    <path d=\"M0 0h24v24H0V0z\" fill=\"none\"/>\n",
              "    <path d=\"M18.56 5.44l.94 2.06.94-2.06 2.06-.94-2.06-.94-.94-2.06-.94 2.06-2.06.94zm-11 1L8.5 8.5l.94-2.06 2.06-.94-2.06-.94L8.5 2.5l-.94 2.06-2.06.94zm10 10l.94 2.06.94-2.06 2.06-.94-2.06-.94-.94-2.06-.94 2.06-2.06.94z\"/><path d=\"M17.41 7.96l-1.37-1.37c-.4-.4-.92-.59-1.43-.59-.52 0-1.04.2-1.43.59L10.3 9.45l-7.72 7.72c-.78.78-.78 2.05 0 2.83L4 21.41c.39.39.9.59 1.41.59.51 0 1.02-.2 1.41-.59l7.78-7.78 2.81-2.81c.8-.78.8-2.07 0-2.86zM5.41 20L4 18.59l7.72-7.72 1.47 1.35L5.41 20z\"/>\n",
              "  </svg>\n",
              "      </button>\n",
              "      \n",
              "  <style>\n",
              "    .colab-df-container {\n",
              "      display:flex;\n",
              "      flex-wrap:wrap;\n",
              "      gap: 12px;\n",
              "    }\n",
              "\n",
              "    .colab-df-convert {\n",
              "      background-color: #E8F0FE;\n",
              "      border: none;\n",
              "      border-radius: 50%;\n",
              "      cursor: pointer;\n",
              "      display: none;\n",
              "      fill: #1967D2;\n",
              "      height: 32px;\n",
              "      padding: 0 0 0 0;\n",
              "      width: 32px;\n",
              "    }\n",
              "\n",
              "    .colab-df-convert:hover {\n",
              "      background-color: #E2EBFA;\n",
              "      box-shadow: 0px 1px 2px rgba(60, 64, 67, 0.3), 0px 1px 3px 1px rgba(60, 64, 67, 0.15);\n",
              "      fill: #174EA6;\n",
              "    }\n",
              "\n",
              "    [theme=dark] .colab-df-convert {\n",
              "      background-color: #3B4455;\n",
              "      fill: #D2E3FC;\n",
              "    }\n",
              "\n",
              "    [theme=dark] .colab-df-convert:hover {\n",
              "      background-color: #434B5C;\n",
              "      box-shadow: 0px 1px 3px 1px rgba(0, 0, 0, 0.15);\n",
              "      filter: drop-shadow(0px 1px 2px rgba(0, 0, 0, 0.3));\n",
              "      fill: #FFFFFF;\n",
              "    }\n",
              "  </style>\n",
              "\n",
              "      <script>\n",
              "        const buttonEl =\n",
              "          document.querySelector('#df-6803dea9-701d-453f-b0f0-d396fdaf05f0 button.colab-df-convert');\n",
              "        buttonEl.style.display =\n",
              "          google.colab.kernel.accessAllowed ? 'block' : 'none';\n",
              "\n",
              "        async function convertToInteractive(key) {\n",
              "          const element = document.querySelector('#df-6803dea9-701d-453f-b0f0-d396fdaf05f0');\n",
              "          const dataTable =\n",
              "            await google.colab.kernel.invokeFunction('convertToInteractive',\n",
              "                                                     [key], {});\n",
              "          if (!dataTable) return;\n",
              "\n",
              "          const docLinkHtml = 'Like what you see? Visit the ' +\n",
              "            '<a target=\"_blank\" href=https://colab.research.google.com/notebooks/data_table.ipynb>data table notebook</a>'\n",
              "            + ' to learn more about interactive tables.';\n",
              "          element.innerHTML = '';\n",
              "          dataTable['output_type'] = 'display_data';\n",
              "          await google.colab.output.renderOutput(dataTable, element);\n",
              "          const docLink = document.createElement('div');\n",
              "          docLink.innerHTML = docLinkHtml;\n",
              "          element.appendChild(docLink);\n",
              "        }\n",
              "      </script>\n",
              "    </div>\n",
              "  </div>\n",
              "  "
            ],
            "text/plain": [
              "               id  full_position  short_position\n",
              "count  300.000000     300.000000      120.000000\n",
              "mean   150.500000     150.500000       60.500000\n",
              "std     86.746758      86.746758       34.785054\n",
              "min      1.000000       1.000000        1.000000\n",
              "25%     75.750000      75.750000       30.750000\n",
              "50%    150.500000     150.500000       60.500000\n",
              "75%    225.250000     225.250000       90.250000\n",
              "max    300.000000     300.000000      120.000000"
            ]
          },
          "metadata": {},
          "execution_count": 9
        }
      ]
    },
    {
      "cell_type": "code",
      "source": [
        "data_train.shape"
      ],
      "metadata": {
        "colab": {
          "base_uri": "https://localhost:8080/"
        },
        "id": "tBva7xQwZvVk",
        "outputId": "6edb9a4c-ba34-4f0f-fcef-67220ee0c711"
      },
      "execution_count": 11,
      "outputs": [
        {
          "output_type": "execute_result",
          "data": {
            "text/plain": [
              "(300, 7)"
            ]
          },
          "metadata": {},
          "execution_count": 11
        }
      ]
    },
    {
      "cell_type": "code",
      "source": [
        "print('number of participants :' , len(data_train))"
      ],
      "metadata": {
        "colab": {
          "base_uri": "https://localhost:8080/"
        },
        "id": "UOyFUFOEZ5FM",
        "outputId": "6e78f84a-e5b6-4330-8534-6533ad10fdee"
      },
      "execution_count": 13,
      "outputs": [
        {
          "output_type": "stream",
          "name": "stdout",
          "text": [
            "number of participants : 300\n"
          ]
        }
      ]
    },
    {
      "cell_type": "code",
      "source": [
        "data_train.info()"
      ],
      "metadata": {
        "colab": {
          "base_uri": "https://localhost:8080/"
        },
        "id": "uPLHWiy2aJGe",
        "outputId": "9c565a98-5490-419b-a542-97ff5bbd0533"
      },
      "execution_count": 14,
      "outputs": [
        {
          "output_type": "stream",
          "name": "stdout",
          "text": [
            "<class 'pandas.core.frame.DataFrame'>\n",
            "RangeIndex: 300 entries, 0 to 299\n",
            "Data columns (total 7 columns):\n",
            " #   Column          Non-Null Count  Dtype  \n",
            "---  ------          --------------  -----  \n",
            " 0   id              300 non-null    int64  \n",
            " 1   full_position   300 non-null    int64  \n",
            " 2   short_position  120 non-null    float64\n",
            " 3   sign            300 non-null    object \n",
            " 4   key             300 non-null    object \n",
            " 5   facet           300 non-null    object \n",
            " 6   item            300 non-null    object \n",
            "dtypes: float64(1), int64(2), object(4)\n",
            "memory usage: 16.5+ KB\n"
          ]
        }
      ]
    },
    {
      "cell_type": "markdown",
      "source": [
        "here i am doing some data preprocessing to fill the null values that i descoveed in the dataset by the using the following commands\n"
      ],
      "metadata": {
        "id": "MfrEl9vIC6nw"
      }
    },
    {
      "cell_type": "code",
      "source": [
        "data_train.fillna(value=0)\n",
        "data_train.info()"
      ],
      "metadata": {
        "colab": {
          "base_uri": "https://localhost:8080/"
        },
        "id": "LssQLJK4aOGH",
        "outputId": "2237382b-cfd0-4203-a4e6-1635c146b140"
      },
      "execution_count": 16,
      "outputs": [
        {
          "output_type": "stream",
          "name": "stdout",
          "text": [
            "<class 'pandas.core.frame.DataFrame'>\n",
            "RangeIndex: 300 entries, 0 to 299\n",
            "Data columns (total 7 columns):\n",
            " #   Column          Non-Null Count  Dtype  \n",
            "---  ------          --------------  -----  \n",
            " 0   id              300 non-null    int64  \n",
            " 1   full_position   300 non-null    int64  \n",
            " 2   short_position  120 non-null    float64\n",
            " 3   sign            300 non-null    object \n",
            " 4   key             300 non-null    object \n",
            " 5   facet           300 non-null    object \n",
            " 6   item            300 non-null    object \n",
            "dtypes: float64(1), int64(2), object(4)\n",
            "memory usage: 16.5+ KB\n"
          ]
        }
      ]
    },
    {
      "cell_type": "code",
      "source": [
        "data_train.dropna(inplace=True)"
      ],
      "metadata": {
        "id": "ovQDZfLWaVCx"
      },
      "execution_count": 17,
      "outputs": []
    },
    {
      "cell_type": "code",
      "source": [
        "data_train.info()"
      ],
      "metadata": {
        "colab": {
          "base_uri": "https://localhost:8080/"
        },
        "id": "CNs9qDkpar6m",
        "outputId": "3f17d1ba-37ab-45c2-c05f-91de34738466"
      },
      "execution_count": 18,
      "outputs": [
        {
          "output_type": "stream",
          "name": "stdout",
          "text": [
            "<class 'pandas.core.frame.DataFrame'>\n",
            "Int64Index: 120 entries, 0 to 289\n",
            "Data columns (total 7 columns):\n",
            " #   Column          Non-Null Count  Dtype  \n",
            "---  ------          --------------  -----  \n",
            " 0   id              120 non-null    int64  \n",
            " 1   full_position   120 non-null    int64  \n",
            " 2   short_position  120 non-null    float64\n",
            " 3   sign            120 non-null    object \n",
            " 4   key             120 non-null    object \n",
            " 5   facet           120 non-null    object \n",
            " 6   item            120 non-null    object \n",
            "dtypes: float64(1), int64(2), object(4)\n",
            "memory usage: 7.5+ KB\n"
          ]
        }
      ]
    },
    {
      "cell_type": "markdown",
      "source": [
        "**now come to the second part of the code ,visaulozing the attributes of the data set  **"
      ],
      "metadata": {
        "id": "5l1h7ic_DII5"
      }
    },
    {
      "cell_type": "code",
      "source": [
        "%matplotlib inline \n",
        "import matplotlib.pyplot as plt \n",
        "data_train.hist(bins=50, figsize=(10,10))\n",
        "plt.show()"
      ],
      "metadata": {
        "colab": {
          "base_uri": "https://localhost:8080/",
          "height": 608
        },
        "id": "814Yx9UrbEIc",
        "outputId": "fd4e5a1b-3cc9-4b06-fe26-99cb79b183f7"
      },
      "execution_count": 21,
      "outputs": [
        {
          "output_type": "display_data",
          "data": {
            "image/png": "[encoded data removed]",
            "text/plain": [
              "<Figure size 720x720 with 4 Axes>"
            ]
          },
          "metadata": {
            "needs_background": "light"
          }
        }
      ]
    },
    {
      "cell_type": "code",
      "source": [
        "data_train.columns"
      ],
      "metadata": {
        "colab": {
          "base_uri": "https://localhost:8080/"
        },
        "id": "M4kf91u9bIed",
        "outputId": "d15a2aea-87c9-4112-d3cb-4a5cb5f7b8e6"
      },
      "execution_count": 22,
      "outputs": [
        {
          "output_type": "execute_result",
          "data": {
            "text/plain": [
              "Index(['id', 'full_position', 'short_position', 'sign', 'key', 'facet',\n",
              "       'item'],\n",
              "      dtype='object')"
            ]
          },
          "metadata": {},
          "execution_count": 22
        }
      ]
    },
    {
      "cell_type": "markdown",
      "source": [
        "*after i read the data set i was confused on how to train a neural network without a traing set , so i used an already split dataset divided into two paarts train , test -----> that was aleared split  *"
      ],
      "metadata": {
        "id": "4_pZbVjHDW1A"
      }
    },
    {
      "cell_type": "code",
      "source": [
        "x = pd.read_csv('/content/drive/MyDrive/dataset folder/mypersonality_train.csv',encoding='latin-1')"
      ],
      "metadata": {
        "id": "5IYCiI2BhSXL"
      },
      "execution_count": 24,
      "outputs": []
    },
    {
      "cell_type": "code",
      "source": [
        "y = pd.read_csv('/content/drive/MyDrive/dataset folder/mypersonality_test.csv', encoding ='latin-1' )"
      ],
      "metadata": {
        "id": "6QxfrHo6hqg2"
      },
      "execution_count": 26,
      "outputs": []
    },
    {
      "cell_type": "markdown",
      "source": [
        "doing  some data preprocessing thechniques to get to know the dataset "
      ],
      "metadata": {
        "id": "FiUu_zzWDu3S"
      }
    },
    {
      "cell_type": "code",
      "source": [
        "x.head()"
      ],
      "metadata": {
        "colab": {
          "base_uri": "https://localhost:8080/",
          "height": 704
        },
        "id": "0g1VHJuZiXLX",
        "outputId": "e7e707c9-dec4-4abb-b7c7-cc5545426e88"
      },
      "execution_count": 27,
      "outputs": [
        {
          "output_type": "execute_result",
          "data": {
            "text/html": [
              "\n",
              "  <div id=\"df-b937f39a-06d8-481d-bccc-ff3424620e29\">\n",
              "    <div class=\"colab-df-container\">\n",
              "      <div>\n",
              "<style scoped>\n",
              "    .dataframe tbody tr th:only-of-type {\n",
              "        vertical-align: middle;\n",
              "    }\n",
              "\n",
              "    .dataframe tbody tr th {\n",
              "        vertical-align: top;\n",
              "    }\n",
              "\n",
              "    .dataframe thead th {\n",
              "        text-align: right;\n",
              "    }\n",
              "</style>\n",
              "<table border=\"1\" class=\"dataframe\">\n",
              "  <thead>\n",
              "    <tr style=\"text-align: right;\">\n",
              "      <th></th>\n",
              "      <th>X.AUTHID</th>\n",
              "      <th>STATUS</th>\n",
              "      <th>sEXT</th>\n",
              "      <th>sNEU</th>\n",
              "      <th>sAGR</th>\n",
              "      <th>sCON</th>\n",
              "      <th>sOPN</th>\n",
              "      <th>cEXT</th>\n",
              "      <th>cNEU</th>\n",
              "      <th>cAGR</th>\n",
              "      <th>cCON</th>\n",
              "      <th>cOPN</th>\n",
              "      <th>DATE</th>\n",
              "      <th>NETWORKSIZE</th>\n",
              "      <th>BETWEENNESS</th>\n",
              "      <th>NBETWEENNESS</th>\n",
              "      <th>DENSITY</th>\n",
              "      <th>BROKERAGE</th>\n",
              "      <th>NBROKERAGE</th>\n",
              "      <th>TRANSITIVITY</th>\n",
              "    </tr>\n",
              "  </thead>\n",
              "  <tbody>\n",
              "    <tr>\n",
              "      <th>0</th>\n",
              "      <td>b7b7764cfa1c523e4e93ab2a79a946c4</td>\n",
              "      <td>likes the sound of thunder.</td>\n",
              "      <td>2.65</td>\n",
              "      <td>3.0</td>\n",
              "      <td>3.15</td>\n",
              "      <td>3.25</td>\n",
              "      <td>4.4</td>\n",
              "      <td>n</td>\n",
              "      <td>y</td>\n",
              "      <td>n</td>\n",
              "      <td>n</td>\n",
              "      <td>y</td>\n",
              "      <td>06/19/09 03:21 PM</td>\n",
              "      <td>180</td>\n",
              "      <td>14861.6</td>\n",
              "      <td>93.29</td>\n",
              "      <td>0.03</td>\n",
              "      <td>15661</td>\n",
              "      <td>0.49</td>\n",
              "      <td>0.1</td>\n",
              "    </tr>\n",
              "    <tr>\n",
              "      <th>1</th>\n",
              "      <td>b7b7764cfa1c523e4e93ab2a79a946c4</td>\n",
              "      <td>is so sleepy it's not even funny that's she ca...</td>\n",
              "      <td>2.65</td>\n",
              "      <td>3.0</td>\n",
              "      <td>3.15</td>\n",
              "      <td>3.25</td>\n",
              "      <td>4.4</td>\n",
              "      <td>n</td>\n",
              "      <td>y</td>\n",
              "      <td>n</td>\n",
              "      <td>n</td>\n",
              "      <td>y</td>\n",
              "      <td>07/02/09 08:41 AM</td>\n",
              "      <td>180</td>\n",
              "      <td>14861.6</td>\n",
              "      <td>93.29</td>\n",
              "      <td>0.03</td>\n",
              "      <td>15661</td>\n",
              "      <td>0.49</td>\n",
              "      <td>0.1</td>\n",
              "    </tr>\n",
              "    <tr>\n",
              "      <th>2</th>\n",
              "      <td>b7b7764cfa1c523e4e93ab2a79a946c4</td>\n",
              "      <td>is sore and wants the knot of muscles at the b...</td>\n",
              "      <td>2.65</td>\n",
              "      <td>3.0</td>\n",
              "      <td>3.15</td>\n",
              "      <td>3.25</td>\n",
              "      <td>4.4</td>\n",
              "      <td>n</td>\n",
              "      <td>y</td>\n",
              "      <td>n</td>\n",
              "      <td>n</td>\n",
              "      <td>y</td>\n",
              "      <td>06/15/09 01:15 PM</td>\n",
              "      <td>180</td>\n",
              "      <td>14861.6</td>\n",
              "      <td>93.29</td>\n",
              "      <td>0.03</td>\n",
              "      <td>15661</td>\n",
              "      <td>0.49</td>\n",
              "      <td>0.1</td>\n",
              "    </tr>\n",
              "    <tr>\n",
              "      <th>3</th>\n",
              "      <td>b7b7764cfa1c523e4e93ab2a79a946c4</td>\n",
              "      <td>likes how the day sounds in this new song.</td>\n",
              "      <td>2.65</td>\n",
              "      <td>3.0</td>\n",
              "      <td>3.15</td>\n",
              "      <td>3.25</td>\n",
              "      <td>4.4</td>\n",
              "      <td>n</td>\n",
              "      <td>y</td>\n",
              "      <td>n</td>\n",
              "      <td>n</td>\n",
              "      <td>y</td>\n",
              "      <td>06/22/09 04:48 AM</td>\n",
              "      <td>180</td>\n",
              "      <td>14861.6</td>\n",
              "      <td>93.29</td>\n",
              "      <td>0.03</td>\n",
              "      <td>15661</td>\n",
              "      <td>0.49</td>\n",
              "      <td>0.1</td>\n",
              "    </tr>\n",
              "    <tr>\n",
              "      <th>4</th>\n",
              "      <td>b7b7764cfa1c523e4e93ab2a79a946c4</td>\n",
              "      <td>is home. &lt;3</td>\n",
              "      <td>2.65</td>\n",
              "      <td>3.0</td>\n",
              "      <td>3.15</td>\n",
              "      <td>3.25</td>\n",
              "      <td>4.4</td>\n",
              "      <td>n</td>\n",
              "      <td>y</td>\n",
              "      <td>n</td>\n",
              "      <td>n</td>\n",
              "      <td>y</td>\n",
              "      <td>07/20/09 02:31 AM</td>\n",
              "      <td>180</td>\n",
              "      <td>14861.6</td>\n",
              "      <td>93.29</td>\n",
              "      <td>0.03</td>\n",
              "      <td>15661</td>\n",
              "      <td>0.49</td>\n",
              "      <td>0.1</td>\n",
              "    </tr>\n",
              "  </tbody>\n",
              "</table>\n",
              "</div>\n",
              "      <button class=\"colab-df-convert\" onclick=\"convertToInteractive('df-b937f39a-06d8-481d-bccc-ff3424620e29')\"\n",
              "              title=\"Convert this dataframe to an interactive table.\"\n",
              "              style=\"display:none;\">\n",
              "        \n",
              "  <svg xmlns=\"http://www.w3.org/2000/svg\" height=\"24px\"viewBox=\"0 0 24 24\"\n",
              "       width=\"24px\">\n",
              "    <path d=\"M0 0h24v24H0V0z\" fill=\"none\"/>\n",
              "    <path d=\"M18.56 5.44l.94 2.06.94-2.06 2.06-.94-2.06-.94-.94-2.06-.94 2.06-2.06.94zm-11 1L8.5 8.5l.94-2.06 2.06-.94-2.06-.94L8.5 2.5l-.94 2.06-2.06.94zm10 10l.94 2.06.94-2.06 2.06-.94-2.06-.94-.94-2.06-.94 2.06-2.06.94z\"/><path d=\"M17.41 7.96l-1.37-1.37c-.4-.4-.92-.59-1.43-.59-.52 0-1.04.2-1.43.59L10.3 9.45l-7.72 7.72c-.78.78-.78 2.05 0 2.83L4 21.41c.39.39.9.59 1.41.59.51 0 1.02-.2 1.41-.59l7.78-7.78 2.81-2.81c.8-.78.8-2.07 0-2.86zM5.41 20L4 18.59l7.72-7.72 1.47 1.35L5.41 20z\"/>\n",
              "  </svg>\n",
              "      </button>\n",
              "      \n",
              "  <style>\n",
              "    .colab-df-container {\n",
              "      display:flex;\n",
              "      flex-wrap:wrap;\n",
              "      gap: 12px;\n",
              "    }\n",
              "\n",
              "    .colab-df-convert {\n",
              "      background-color: #E8F0FE;\n",
              "      border: none;\n",
              "      border-radius: 50%;\n",
              "      cursor: pointer;\n",
              "      display: none;\n",
              "      fill: #1967D2;\n",
              "      height: 32px;\n",
              "      padding: 0 0 0 0;\n",
              "      width: 32px;\n",
              "    }\n",
              "\n",
              "    .colab-df-convert:hover {\n",
              "      background-color: #E2EBFA;\n",
              "      box-shadow: 0px 1px 2px rgba(60, 64, 67, 0.3), 0px 1px 3px 1px rgba(60, 64, 67, 0.15);\n",
              "      fill: #174EA6;\n",
              "    }\n",
              "\n",
              "    [theme=dark] .colab-df-convert {\n",
              "      background-color: #3B4455;\n",
              "      fill: #D2E3FC;\n",
              "    }\n",
              "\n",
              "    [theme=dark] .colab-df-convert:hover {\n",
              "      background-color: #434B5C;\n",
              "      box-shadow: 0px 1px 3px 1px rgba(0, 0, 0, 0.15);\n",
              "      filter: drop-shadow(0px 1px 2px rgba(0, 0, 0, 0.3));\n",
              "      fill: #FFFFFF;\n",
              "    }\n",
              "  </style>\n",
              "\n",
              "      <script>\n",
              "        const buttonEl =\n",
              "          document.querySelector('#df-b937f39a-06d8-481d-bccc-ff3424620e29 button.colab-df-convert');\n",
              "        buttonEl.style.display =\n",
              "          google.colab.kernel.accessAllowed ? 'block' : 'none';\n",
              "\n",
              "        async function convertToInteractive(key) {\n",
              "          const element = document.querySelector('#df-b937f39a-06d8-481d-bccc-ff3424620e29');\n",
              "          const dataTable =\n",
              "            await google.colab.kernel.invokeFunction('convertToInteractive',\n",
              "                                                     [key], {});\n",
              "          if (!dataTable) return;\n",
              "\n",
              "          const docLinkHtml = 'Like what you see? Visit the ' +\n",
              "            '<a target=\"_blank\" href=https://colab.research.google.com/notebooks/data_table.ipynb>data table notebook</a>'\n",
              "            + ' to learn more about interactive tables.';\n",
              "          element.innerHTML = '';\n",
              "          dataTable['output_type'] = 'display_data';\n",
              "          await google.colab.output.renderOutput(dataTable, element);\n",
              "          const docLink = document.createElement('div');\n",
              "          docLink.innerHTML = docLinkHtml;\n",
              "          element.appendChild(docLink);\n",
              "        }\n",
              "      </script>\n",
              "    </div>\n",
              "  </div>\n",
              "  "
            ],
            "text/plain": [
              "                           X.AUTHID  ... TRANSITIVITY\n",
              "0  b7b7764cfa1c523e4e93ab2a79a946c4  ...          0.1\n",
              "1  b7b7764cfa1c523e4e93ab2a79a946c4  ...          0.1\n",
              "2  b7b7764cfa1c523e4e93ab2a79a946c4  ...          0.1\n",
              "3  b7b7764cfa1c523e4e93ab2a79a946c4  ...          0.1\n",
              "4  b7b7764cfa1c523e4e93ab2a79a946c4  ...          0.1\n",
              "\n",
              "[5 rows x 20 columns]"
            ]
          },
          "metadata": {},
          "execution_count": 27
        }
      ]
    },
    {
      "cell_type": "code",
      "source": [
        "y.head()"
      ],
      "metadata": {
        "colab": {
          "base_uri": "https://localhost:8080/",
          "height": 583
        },
        "id": "ehV8tN2-ijnq",
        "outputId": "38d71438-6eaf-4468-97d6-bc0c4036803a"
      },
      "execution_count": 28,
      "outputs": [
        {
          "output_type": "execute_result",
          "data": {
            "text/html": [
              "\n",
              "  <div id=\"df-5465030a-82cb-4bdf-bc5b-32a95f27466d\">\n",
              "    <div class=\"colab-df-container\">\n",
              "      <div>\n",
              "<style scoped>\n",
              "    .dataframe tbody tr th:only-of-type {\n",
              "        vertical-align: middle;\n",
              "    }\n",
              "\n",
              "    .dataframe tbody tr th {\n",
              "        vertical-align: top;\n",
              "    }\n",
              "\n",
              "    .dataframe thead th {\n",
              "        text-align: right;\n",
              "    }\n",
              "</style>\n",
              "<table border=\"1\" class=\"dataframe\">\n",
              "  <thead>\n",
              "    <tr style=\"text-align: right;\">\n",
              "      <th></th>\n",
              "      <th>X.AUTHID</th>\n",
              "      <th>STATUS</th>\n",
              "      <th>sEXT</th>\n",
              "      <th>sNEU</th>\n",
              "      <th>sAGR</th>\n",
              "      <th>sCON</th>\n",
              "      <th>sOPN</th>\n",
              "      <th>cEXT</th>\n",
              "      <th>cNEU</th>\n",
              "      <th>cAGR</th>\n",
              "      <th>cCON</th>\n",
              "      <th>cOPN</th>\n",
              "      <th>DATE</th>\n",
              "      <th>NETWORKSIZE</th>\n",
              "      <th>BETWEENNESS</th>\n",
              "      <th>NBETWEENNESS</th>\n",
              "      <th>DENSITY</th>\n",
              "      <th>BROKERAGE</th>\n",
              "      <th>NBROKERAGE</th>\n",
              "      <th>TRANSITIVITY</th>\n",
              "    </tr>\n",
              "  </thead>\n",
              "  <tbody>\n",
              "    <tr>\n",
              "      <th>0</th>\n",
              "      <td>172400f46880b309ca5e97d322bb8f01</td>\n",
              "      <td>I have no excuses, least of all for God.  Like...</td>\n",
              "      <td>3.45</td>\n",
              "      <td>2.85</td>\n",
              "      <td>2.8</td>\n",
              "      <td>2.7</td>\n",
              "      <td>4.15</td>\n",
              "      <td>n</td>\n",
              "      <td>y</td>\n",
              "      <td>n</td>\n",
              "      <td>n</td>\n",
              "      <td>y</td>\n",
              "      <td>07/15/09 11:19 PM</td>\n",
              "      <td>122.0</td>\n",
              "      <td>6529.3</td>\n",
              "      <td>89.94</td>\n",
              "      <td>0.07</td>\n",
              "      <td>6893.0</td>\n",
              "      <td>0.47</td>\n",
              "      <td>0.26</td>\n",
              "    </tr>\n",
              "    <tr>\n",
              "      <th>1</th>\n",
              "      <td>172400f46880b309ca5e97d322bb8f01</td>\n",
              "      <td>Back</td>\n",
              "      <td>3.45</td>\n",
              "      <td>2.85</td>\n",
              "      <td>2.8</td>\n",
              "      <td>2.7</td>\n",
              "      <td>4.15</td>\n",
              "      <td>n</td>\n",
              "      <td>y</td>\n",
              "      <td>n</td>\n",
              "      <td>n</td>\n",
              "      <td>y</td>\n",
              "      <td>07/14/09 12:27 PM</td>\n",
              "      <td>122.0</td>\n",
              "      <td>6529.3</td>\n",
              "      <td>89.94</td>\n",
              "      <td>0.07</td>\n",
              "      <td>6893.0</td>\n",
              "      <td>0.47</td>\n",
              "      <td>0.26</td>\n",
              "    </tr>\n",
              "    <tr>\n",
              "      <th>2</th>\n",
              "      <td>172400f46880b309ca5e97d322bb8f01</td>\n",
              "      <td>Rip open the diseased heart of a corporation a...</td>\n",
              "      <td>3.45</td>\n",
              "      <td>2.85</td>\n",
              "      <td>2.8</td>\n",
              "      <td>2.7</td>\n",
              "      <td>4.15</td>\n",
              "      <td>n</td>\n",
              "      <td>y</td>\n",
              "      <td>n</td>\n",
              "      <td>n</td>\n",
              "      <td>y</td>\n",
              "      <td>07/25/09 05:14 AM</td>\n",
              "      <td>122.0</td>\n",
              "      <td>6529.3</td>\n",
              "      <td>89.94</td>\n",
              "      <td>0.07</td>\n",
              "      <td>6893.0</td>\n",
              "      <td>0.47</td>\n",
              "      <td>0.26</td>\n",
              "    </tr>\n",
              "    <tr>\n",
              "      <th>3</th>\n",
              "      <td>172400f46880b309ca5e97d322bb8f01</td>\n",
              "      <td>You're wicked overseer</td>\n",
              "      <td>3.45</td>\n",
              "      <td>2.85</td>\n",
              "      <td>2.8</td>\n",
              "      <td>2.7</td>\n",
              "      <td>4.15</td>\n",
              "      <td>n</td>\n",
              "      <td>y</td>\n",
              "      <td>n</td>\n",
              "      <td>n</td>\n",
              "      <td>y</td>\n",
              "      <td>06/14/09 05:47 PM</td>\n",
              "      <td>122.0</td>\n",
              "      <td>6529.3</td>\n",
              "      <td>89.94</td>\n",
              "      <td>0.07</td>\n",
              "      <td>6893.0</td>\n",
              "      <td>0.47</td>\n",
              "      <td>0.26</td>\n",
              "    </tr>\n",
              "    <tr>\n",
              "      <th>4</th>\n",
              "      <td>172400f46880b309ca5e97d322bb8f01</td>\n",
              "      <td>\"Keep government away from my medicare!\"  As g...</td>\n",
              "      <td>3.45</td>\n",
              "      <td>2.85</td>\n",
              "      <td>2.8</td>\n",
              "      <td>2.7</td>\n",
              "      <td>4.15</td>\n",
              "      <td>n</td>\n",
              "      <td>y</td>\n",
              "      <td>n</td>\n",
              "      <td>n</td>\n",
              "      <td>y</td>\n",
              "      <td>08/11/09 09:24 PM</td>\n",
              "      <td>122.0</td>\n",
              "      <td>6529.3</td>\n",
              "      <td>89.94</td>\n",
              "      <td>0.07</td>\n",
              "      <td>6893.0</td>\n",
              "      <td>0.47</td>\n",
              "      <td>0.26</td>\n",
              "    </tr>\n",
              "  </tbody>\n",
              "</table>\n",
              "</div>\n",
              "      <button class=\"colab-df-convert\" onclick=\"convertToInteractive('df-5465030a-82cb-4bdf-bc5b-32a95f27466d')\"\n",
              "              title=\"Convert this dataframe to an interactive table.\"\n",
              "              style=\"display:none;\">\n",
              "        \n",
              "  <svg xmlns=\"http://www.w3.org/2000/svg\" height=\"24px\"viewBox=\"0 0 24 24\"\n",
              "       width=\"24px\">\n",
              "    <path d=\"M0 0h24v24H0V0z\" fill=\"none\"/>\n",
              "    <path d=\"M18.56 5.44l.94 2.06.94-2.06 2.06-.94-2.06-.94-.94-2.06-.94 2.06-2.06.94zm-11 1L8.5 8.5l.94-2.06 2.06-.94-2.06-.94L8.5 2.5l-.94 2.06-2.06.94zm10 10l.94 2.06.94-2.06 2.06-.94-2.06-.94-.94-2.06-.94 2.06-2.06.94z\"/><path d=\"M17.41 7.96l-1.37-1.37c-.4-.4-.92-.59-1.43-.59-.52 0-1.04.2-1.43.59L10.3 9.45l-7.72 7.72c-.78.78-.78 2.05 0 2.83L4 21.41c.39.39.9.59 1.41.59.51 0 1.02-.2 1.41-.59l7.78-7.78 2.81-2.81c.8-.78.8-2.07 0-2.86zM5.41 20L4 18.59l7.72-7.72 1.47 1.35L5.41 20z\"/>\n",
              "  </svg>\n",
              "      </button>\n",
              "      \n",
              "  <style>\n",
              "    .colab-df-container {\n",
              "      display:flex;\n",
              "      flex-wrap:wrap;\n",
              "      gap: 12px;\n",
              "    }\n",
              "\n",
              "    .colab-df-convert {\n",
              "      background-color: #E8F0FE;\n",
              "      border: none;\n",
              "      border-radius: 50%;\n",
              "      cursor: pointer;\n",
              "      display: none;\n",
              "      fill: #1967D2;\n",
              "      height: 32px;\n",
              "      padding: 0 0 0 0;\n",
              "      width: 32px;\n",
              "    }\n",
              "\n",
              "    .colab-df-convert:hover {\n",
              "      background-color: #E2EBFA;\n",
              "      box-shadow: 0px 1px 2px rgba(60, 64, 67, 0.3), 0px 1px 3px 1px rgba(60, 64, 67, 0.15);\n",
              "      fill: #174EA6;\n",
              "    }\n",
              "\n",
              "    [theme=dark] .colab-df-convert {\n",
              "      background-color: #3B4455;\n",
              "      fill: #D2E3FC;\n",
              "    }\n",
              "\n",
              "    [theme=dark] .colab-df-convert:hover {\n",
              "      background-color: #434B5C;\n",
              "      box-shadow: 0px 1px 3px 1px rgba(0, 0, 0, 0.15);\n",
              "      filter: drop-shadow(0px 1px 2px rgba(0, 0, 0, 0.3));\n",
              "      fill: #FFFFFF;\n",
              "    }\n",
              "  </style>\n",
              "\n",
              "      <script>\n",
              "        const buttonEl =\n",
              "          document.querySelector('#df-5465030a-82cb-4bdf-bc5b-32a95f27466d button.colab-df-convert');\n",
              "        buttonEl.style.display =\n",
              "          google.colab.kernel.accessAllowed ? 'block' : 'none';\n",
              "\n",
              "        async function convertToInteractive(key) {\n",
              "          const element = document.querySelector('#df-5465030a-82cb-4bdf-bc5b-32a95f27466d');\n",
              "          const dataTable =\n",
              "            await google.colab.kernel.invokeFunction('convertToInteractive',\n",
              "                                                     [key], {});\n",
              "          if (!dataTable) return;\n",
              "\n",
              "          const docLinkHtml = 'Like what you see? Visit the ' +\n",
              "            '<a target=\"_blank\" href=https://colab.research.google.com/notebooks/data_table.ipynb>data table notebook</a>'\n",
              "            + ' to learn more about interactive tables.';\n",
              "          element.innerHTML = '';\n",
              "          dataTable['output_type'] = 'display_data';\n",
              "          await google.colab.output.renderOutput(dataTable, element);\n",
              "          const docLink = document.createElement('div');\n",
              "          docLink.innerHTML = docLinkHtml;\n",
              "          element.appendChild(docLink);\n",
              "        }\n",
              "      </script>\n",
              "    </div>\n",
              "  </div>\n",
              "  "
            ],
            "text/plain": [
              "                           X.AUTHID  ... TRANSITIVITY\n",
              "0  172400f46880b309ca5e97d322bb8f01  ...         0.26\n",
              "1  172400f46880b309ca5e97d322bb8f01  ...         0.26\n",
              "2  172400f46880b309ca5e97d322bb8f01  ...         0.26\n",
              "3  172400f46880b309ca5e97d322bb8f01  ...         0.26\n",
              "4  172400f46880b309ca5e97d322bb8f01  ...         0.26\n",
              "\n",
              "[5 rows x 20 columns]"
            ]
          },
          "metadata": {},
          "execution_count": 28
        }
      ]
    },
    {
      "cell_type": "code",
      "source": [
        "x.describe"
      ],
      "metadata": {
        "colab": {
          "base_uri": "https://localhost:8080/"
        },
        "id": "P-BtyzE5inMf",
        "outputId": "ac095f21-9e26-4a4a-d3b6-a6b0fa5b5c33"
      },
      "execution_count": 29,
      "outputs": [
        {
          "output_type": "execute_result",
          "data": {
            "text/plain": [
              "<bound method NDFrame.describe of                               X.AUTHID  ... TRANSITIVITY\n",
              "0     b7b7764cfa1c523e4e93ab2a79a946c4  ...         0.10\n",
              "1     b7b7764cfa1c523e4e93ab2a79a946c4  ...         0.10\n",
              "2     b7b7764cfa1c523e4e93ab2a79a946c4  ...         0.10\n",
              "3     b7b7764cfa1c523e4e93ab2a79a946c4  ...         0.10\n",
              "4     b7b7764cfa1c523e4e93ab2a79a946c4  ...         0.10\n",
              "...                                ...  ...          ...\n",
              "7991  a764ca41dca158d7a191505dcc8ce47f  ...         0.12\n",
              "7992  deb899e426c1a5c66c24eeb0d7df6257  ...         0.63\n",
              "7993  deb899e426c1a5c66c24eeb0d7df6257  ...         0.63\n",
              "7994  5532642937eb3497a43e15dbb23a9d2d  ...         0.05\n",
              "7995  a286b7286b1247d4a7851709e9f31e1e  ...         0.13\n",
              "\n",
              "[7996 rows x 20 columns]>"
            ]
          },
          "metadata": {},
          "execution_count": 29
        }
      ]
    },
    {
      "cell_type": "code",
      "source": [
        "y.describe"
      ],
      "metadata": {
        "colab": {
          "base_uri": "https://localhost:8080/"
        },
        "id": "BhUMAdVPirU6",
        "outputId": "79a5eecd-c151-44c7-bfc9-e0249eaae70f"
      },
      "execution_count": 30,
      "outputs": [
        {
          "output_type": "execute_result",
          "data": {
            "text/plain": [
              "<bound method NDFrame.describe of                               X.AUTHID  ... TRANSITIVITY\n",
              "0     172400f46880b309ca5e97d322bb8f01  ...         0.26\n",
              "1     172400f46880b309ca5e97d322bb8f01  ...         0.26\n",
              "2     172400f46880b309ca5e97d322bb8f01  ...         0.26\n",
              "3     172400f46880b309ca5e97d322bb8f01  ...         0.26\n",
              "4     172400f46880b309ca5e97d322bb8f01  ...         0.26\n",
              "...                                ...  ...          ...\n",
              "1916  789ce9b31990354f0a5a507347844dea  ...         0.11\n",
              "1917  789ce9b31990354f0a5a507347844dea  ...         0.11\n",
              "1918  8974aab97d9fc4e3a53ba126b5eedd81  ...         0.11\n",
              "1919  ea28a927cb6663480ea33ca917c3c8ba  ...         0.26\n",
              "1920  ea28a927cb6663480ea33ca917c3c8ba  ...         0.26\n",
              "\n",
              "[1921 rows x 20 columns]>"
            ]
          },
          "metadata": {},
          "execution_count": 30
        }
      ]
    },
    {
      "cell_type": "code",
      "source": [
        "print(\"is there any missing value? \", x.isnull().values.any())"
      ],
      "metadata": {
        "colab": {
          "base_uri": "https://localhost:8080/"
        },
        "id": "cE8BTktPis05",
        "outputId": "8ca60915-544b-4f9a-8b90-92e33f6e206a"
      },
      "execution_count": 31,
      "outputs": [
        {
          "output_type": "stream",
          "name": "stdout",
          "text": [
            "is there any missing value?  False\n"
          ]
        }
      ]
    },
    {
      "cell_type": "code",
      "source": [
        "print(\"is there any missing value? \", y.isnull().values.any())"
      ],
      "metadata": {
        "colab": {
          "base_uri": "https://localhost:8080/"
        },
        "id": "8c7cfkVvizmD",
        "outputId": "b04a64e6-ab2d-4ffb-aead-9e6203e70432"
      },
      "execution_count": 32,
      "outputs": [
        {
          "output_type": "stream",
          "name": "stdout",
          "text": [
            "is there any missing value?  True\n"
          ]
        }
      ]
    },
    {
      "cell_type": "code",
      "source": [
        "y.dropna(inplace=True)\n",
        "print(\"is there any missing value? \", y.isnull().values.any())"
      ],
      "metadata": {
        "colab": {
          "base_uri": "https://localhost:8080/"
        },
        "id": "i3B2UQALi6HS",
        "outputId": "b9136ded-cee7-4dcd-cf5f-bedd9fb509b0"
      },
      "execution_count": 33,
      "outputs": [
        {
          "output_type": "stream",
          "name": "stdout",
          "text": [
            "is there any missing value?  False\n"
          ]
        }
      ]
    },
    {
      "cell_type": "code",
      "source": [
        "x.info()"
      ],
      "metadata": {
        "colab": {
          "base_uri": "https://localhost:8080/"
        },
        "id": "oiDipNGSi-AY",
        "outputId": "dae38cae-b108-43bd-c81f-843104eb3582"
      },
      "execution_count": 34,
      "outputs": [
        {
          "output_type": "stream",
          "name": "stdout",
          "text": [
            "<class 'pandas.core.frame.DataFrame'>\n",
            "RangeIndex: 7996 entries, 0 to 7995\n",
            "Data columns (total 20 columns):\n",
            " #   Column        Non-Null Count  Dtype  \n",
            "---  ------        --------------  -----  \n",
            " 0   X.AUTHID      7996 non-null   object \n",
            " 1   STATUS        7996 non-null   object \n",
            " 2   sEXT          7996 non-null   float64\n",
            " 3   sNEU          7996 non-null   float64\n",
            " 4   sAGR          7996 non-null   float64\n",
            " 5   sCON          7996 non-null   float64\n",
            " 6   sOPN          7996 non-null   float64\n",
            " 7   cEXT          7996 non-null   object \n",
            " 8   cNEU          7996 non-null   object \n",
            " 9   cAGR          7996 non-null   object \n",
            " 10  cCON          7996 non-null   object \n",
            " 11  cOPN          7996 non-null   object \n",
            " 12  DATE          7996 non-null   object \n",
            " 13  NETWORKSIZE   7996 non-null   int64  \n",
            " 14  BETWEENNESS   7996 non-null   float64\n",
            " 15  NBETWEENNESS  7996 non-null   float64\n",
            " 16  DENSITY       7996 non-null   float64\n",
            " 17  BROKERAGE     7996 non-null   int64  \n",
            " 18  NBROKERAGE    7996 non-null   float64\n",
            " 19  TRANSITIVITY  7996 non-null   float64\n",
            "dtypes: float64(10), int64(2), object(8)\n",
            "memory usage: 1.2+ MB\n"
          ]
        }
      ]
    },
    {
      "cell_type": "code",
      "source": [
        "y.info()"
      ],
      "metadata": {
        "colab": {
          "base_uri": "https://localhost:8080/"
        },
        "id": "eC0xI65KjF_8",
        "outputId": "6da8c74a-96f2-4f7c-cabb-ccac7865c944"
      },
      "execution_count": 35,
      "outputs": [
        {
          "output_type": "stream",
          "name": "stdout",
          "text": [
            "<class 'pandas.core.frame.DataFrame'>\n",
            "Int64Index: 1920 entries, 0 to 1920\n",
            "Data columns (total 20 columns):\n",
            " #   Column        Non-Null Count  Dtype  \n",
            "---  ------        --------------  -----  \n",
            " 0   X.AUTHID      1920 non-null   object \n",
            " 1   STATUS        1920 non-null   object \n",
            " 2   sEXT          1920 non-null   float64\n",
            " 3   sNEU          1920 non-null   float64\n",
            " 4   sAGR          1920 non-null   float64\n",
            " 5   sCON          1920 non-null   float64\n",
            " 6   sOPN          1920 non-null   float64\n",
            " 7   cEXT          1920 non-null   object \n",
            " 8   cNEU          1920 non-null   object \n",
            " 9   cAGR          1920 non-null   object \n",
            " 10  cCON          1920 non-null   object \n",
            " 11  cOPN          1920 non-null   object \n",
            " 12  DATE          1920 non-null   object \n",
            " 13  NETWORKSIZE   1920 non-null   float64\n",
            " 14  BETWEENNESS   1920 non-null   float64\n",
            " 15  NBETWEENNESS  1920 non-null   float64\n",
            " 16  DENSITY       1920 non-null   float64\n",
            " 17  BROKERAGE     1920 non-null   float64\n",
            " 18  NBROKERAGE    1920 non-null   float64\n",
            " 19  TRANSITIVITY  1920 non-null   float64\n",
            "dtypes: float64(12), object(8)\n",
            "memory usage: 315.0+ KB\n"
          ]
        }
      ]
    },
    {
      "cell_type": "code",
      "source": [
        "%matplotlib inline \n",
        "import matplotlib.pyplot as plt \n",
        "y.hist(bins=50, figsize=(20,15))\n",
        "plt.show()"
      ],
      "metadata": {
        "colab": {
          "base_uri": "https://localhost:8080/",
          "height": 892
        },
        "id": "SCtm6kbEjIar",
        "outputId": "c3d71c79-80a8-43db-808f-49369fb36316"
      },
      "execution_count": 36,
      "outputs": [
        {
          "output_type": "display_data",
          "data": {
            "image/png": "[encoded data removed]",
            "text/plain": [
              "<Figure size 1440x1080 with 12 Axes>"
            ]
          },
          "metadata": {
            "needs_background": "light"
          }
        }
      ]
    },
    {
      "cell_type": "code",
      "source": [
        "%matplotlib inline \n",
        "import matplotlib.pyplot as plt \n",
        "x.hist(bins=50, figsize=(20,15))\n",
        "plt.show()"
      ],
      "metadata": {
        "colab": {
          "base_uri": "https://localhost:8080/",
          "height": 892
        },
        "id": "G-qMsJFojV0_",
        "outputId": "5075b2ba-b22c-452a-94ea-de7b407f4d08"
      },
      "execution_count": 38,
      "outputs": [
        {
          "output_type": "display_data",
          "data": {
            "image/png": "[encoded data removed]",
            "text/plain": [
              "<Figure size 1440x1080 with 12 Axes>"
            ]
          },
          "metadata": {
            "needs_background": "light"
          }
        }
      ]
    },
    {
      "cell_type": "code",
      "source": [
        "print('Training data shape')\n",
        "x.shape"
      ],
      "metadata": {
        "colab": {
          "base_uri": "https://localhost:8080/"
        },
        "id": "mTNBqUsTlP35",
        "outputId": "243650dc-65e5-4f5b-9cf0-b76b06739350"
      },
      "execution_count": 46,
      "outputs": [
        {
          "output_type": "stream",
          "name": "stdout",
          "text": [
            "Training data shape\n"
          ]
        },
        {
          "output_type": "execute_result",
          "data": {
            "text/plain": [
              "(7996, 20)"
            ]
          },
          "metadata": {},
          "execution_count": 46
        }
      ]
    },
    {
      "cell_type": "code",
      "source": [
        "print('Test data shape')\n",
        "y.shape"
      ],
      "metadata": {
        "colab": {
          "base_uri": "https://localhost:8080/"
        },
        "id": "Kul5A7lxlW_s",
        "outputId": "0d3734dd-d8b9-4fb2-da73-c399422b0a4d"
      },
      "execution_count": 47,
      "outputs": [
        {
          "output_type": "stream",
          "name": "stdout",
          "text": [
            "Test data shape\n"
          ]
        },
        {
          "output_type": "execute_result",
          "data": {
            "text/plain": [
              "(1920, 20)"
            ]
          },
          "metadata": {},
          "execution_count": 47
        }
      ]
    },
    {
      "cell_type": "code",
      "source": [
        "import numpy as np "
      ],
      "metadata": {
        "id": "mMIR1KXpnl_H"
      },
      "execution_count": 50,
      "outputs": []
    },
    {
      "cell_type": "markdown",
      "source": [
        "# after i read the data set i discovered some anomlies in the daaset likt some coulumns contain string and it's crossponding columns un the dataset are integers , so , after some research i decided to convert rhe string values \n",
        "# n---->0\n",
        "# y---->1 "
      ],
      "metadata": {
        "id": "aUOzt2pHEA18"
      }
    },
    {
      "cell_type": "code",
      "source": [
        "unique, counts = np.unique(str(y).split(), return_counts=True)"
      ],
      "metadata": {
        "id": "xisb58BYniYQ"
      },
      "execution_count": 53,
      "outputs": []
    },
    {
      "cell_type": "markdown",
      "source": [
        "here i was supposed to find the unique values in the dataset to train every attribute to it's class \n",
        "as the convolution neural network way of running is to make a number of clases equal to the number layers in the network "
      ],
      "metadata": {
        "id": "VMP_U15HEnf9"
      }
    },
    {
      "cell_type": "code",
      "source": [
        "classes = y[['sEXT','sNEU','sAGR','sCON','cOPN']]\n",
        "nClasses = len(classes)\n",
        "print('Total number of outputs:', nClasses)\n",
        "print('Output classes : ',classes)"
      ],
      "metadata": {
        "colab": {
          "base_uri": "https://localhost:8080/"
        },
        "id": "8sEcFQmIldOa",
        "outputId": "dfdad8a9-378a-4b86-c85e-f35b28d3d99d"
      },
      "execution_count": 58,
      "outputs": [
        {
          "output_type": "stream",
          "name": "stdout",
          "text": [
            "Total number of outputs: 1920\n",
            "Output classes :        sEXT  sNEU  sAGR  sCON cOPN\n",
            "0     3.45  2.85  2.80  2.70    y\n",
            "1     3.45  2.85  2.80  2.70    y\n",
            "2     3.45  2.85  2.80  2.70    y\n",
            "3     3.45  2.85  2.80  2.70    y\n",
            "4     3.45  2.85  2.80  2.70    y\n",
            "...    ...   ...   ...   ...  ...\n",
            "1916  2.80  3.85  3.25  3.10    y\n",
            "1917  2.80  3.85  3.25  3.10    y\n",
            "1918  3.20  2.90  3.25  2.70    y\n",
            "1919  4.05  3.35  3.80  3.95    y\n",
            "1920  4.05  3.35  3.80  3.95    y\n",
            "\n",
            "[1920 rows x 5 columns]\n"
          ]
        }
      ]
    },
    {
      "cell_type": "code",
      "source": [
        "column_values = y['cEXT'].values"
      ],
      "metadata": {
        "id": "2RHzF36Pp4lK"
      },
      "execution_count": 63,
      "outputs": []
    },
    {
      "cell_type": "code",
      "source": [
        "unique_values = np. unique(column_values)\n",
        "print(unique_values)"
      ],
      "metadata": {
        "colab": {
          "base_uri": "https://localhost:8080/"
        },
        "id": "NwEdjx1GqgAF",
        "outputId": "9537985f-ef67-4e88-e03b-af5fe8b5123f"
      },
      "execution_count": 65,
      "outputs": [
        {
          "output_type": "stream",
          "name": "stdout",
          "text": [
            "['n' 'y']\n"
          ]
        }
      ]
    },
    {
      "cell_type": "code",
      "source": [
        "y.cEXT[y.cEXT == 'y'] = 1\n",
        "y.cEXT[y.cEXT == 'n'] = 0\n",
        "print(y['cEXT'])"
      ],
      "metadata": {
        "colab": {
          "base_uri": "https://localhost:8080/"
        },
        "id": "xYfIhwI7qn7T",
        "outputId": "ed64c4fd-4b30-4f5a-e3f8-65e1f66d7348"
      },
      "execution_count": 69,
      "outputs": [
        {
          "output_type": "stream",
          "name": "stdout",
          "text": [
            "0       0\n",
            "1       0\n",
            "2       0\n",
            "3       0\n",
            "4       0\n",
            "       ..\n",
            "1916    0\n",
            "1917    0\n",
            "1918    0\n",
            "1919    1\n",
            "1920    1\n",
            "Name: cEXT, Length: 1920, dtype: object\n"
          ]
        },
        {
          "output_type": "stream",
          "name": "stderr",
          "text": [
            "/usr/local/lib/python3.7/dist-packages/ipykernel_launcher.py:1: SettingWithCopyWarning: \n",
            "A value is trying to be set on a copy of a slice from a DataFrame\n",
            "\n",
            "See the caveats in the documentation: https://pandas.pydata.org/pandas-docs/stable/user_guide/indexing.html#returning-a-view-versus-a-copy\n",
            "  \"\"\"Entry point for launching an IPython kernel.\n",
            "/usr/local/lib/python3.7/dist-packages/ipykernel_launcher.py:2: SettingWithCopyWarning: \n",
            "A value is trying to be set on a copy of a slice from a DataFrame\n",
            "\n",
            "See the caveats in the documentation: https://pandas.pydata.org/pandas-docs/stable/user_guide/indexing.html#returning-a-view-versus-a-copy\n",
            "  \n"
          ]
        }
      ]
    },
    {
      "cell_type": "markdown",
      "source": [
        "here i found aother way to repalce the character n the cloumns in the dataset to numbers "
      ],
      "metadata": {
        "id": "sQk6wV8lFh5D"
      }
    },
    {
      "cell_type": "code",
      "source": [
        "y.replace({'1':'y', 0:'n'})\n",
        "print(y)"
      ],
      "metadata": {
        "colab": {
          "base_uri": "https://localhost:8080/"
        },
        "id": "BH2Mv9phrbE6",
        "outputId": "a4542798-fe01-439a-b7da-7793ec594daa"
      },
      "execution_count": 72,
      "outputs": [
        {
          "output_type": "stream",
          "name": "stdout",
          "text": [
            "                              X.AUTHID  ... TRANSITIVITY\n",
            "0     172400f46880b309ca5e97d322bb8f01  ...         0.26\n",
            "1     172400f46880b309ca5e97d322bb8f01  ...         0.26\n",
            "2     172400f46880b309ca5e97d322bb8f01  ...         0.26\n",
            "3     172400f46880b309ca5e97d322bb8f01  ...         0.26\n",
            "4     172400f46880b309ca5e97d322bb8f01  ...         0.26\n",
            "...                                ...  ...          ...\n",
            "1916  789ce9b31990354f0a5a507347844dea  ...         0.11\n",
            "1917  789ce9b31990354f0a5a507347844dea  ...         0.11\n",
            "1918  8974aab97d9fc4e3a53ba126b5eedd81  ...         0.11\n",
            "1919  ea28a927cb6663480ea33ca917c3c8ba  ...         0.26\n",
            "1920  ea28a927cb6663480ea33ca917c3c8ba  ...         0.26\n",
            "\n",
            "[1920 rows x 20 columns]\n"
          ]
        }
      ]
    },
    {
      "cell_type": "markdown",
      "source": [
        "# the start of a interesting  part , creating the model  \n",
        "# but first we have to shuffle the dataset so we can train our model without high bias , put first import test_train method "
      ],
      "metadata": {
        "id": "TEs7B90iFtaW"
      }
    },
    {
      "cell_type": "code",
      "source": [
        "from sklearn.model_selection import train_test_split"
      ],
      "metadata": {
        "id": "KMJCLzFyjyDu"
      },
      "execution_count": 42,
      "outputs": []
    },
    {
      "cell_type": "markdown",
      "source": [
        "splitting the dataset into traing , testing with 5o:50 size for both training and testin"
      ],
      "metadata": {
        "id": "TQxaSLmNGRkU"
      }
    },
    {
      "cell_type": "code",
      "source": [
        "x_train, x_test, y_train, y_test = train_test_split(x,y, test_size = 0.5, random_state=42)"
      ],
      "metadata": {
        "id": "relgzyjhAgPf"
      },
      "execution_count": null,
      "outputs": []
    },
    {
      "cell_type": "code",
      "source": [
        "y-train = to_categorical(y_train)\n",
        "y_test = to_categorical(y_test)"
      ],
      "metadata": {
        "id": "BjBUDspijosd"
      },
      "execution_count": null,
      "outputs": []
    },
    {
      "cell_type": "markdown",
      "source": [
        "here is the most important part of the code creating the model with normal CNN method , using both 'relu,softmax' activation funtions , and using 'adam' optimizer to evaluate the model \n",
        "without forgetting to return the accuracy of the model by using 'Categorical_croosentropy'\n"
      ],
      "metadata": {
        "id": "_BVAO0Q5GgQZ"
      }
    },
    {
      "cell_type": "code",
      "source": [
        "model = sequential()\n",
        "model.add(Conv1D(filters=64, kernel_size=3, activation='relu'))\n",
        "model.add(MaxPooling1D(pool_size=4))\n",
        "model.add(LSTM(64))\n",
        "model.ad(Dense(3, activation='softmax'))\n",
        "\n",
        "model.compile(optimizer='adam', loss='categorical_crossentropy',metrics=['acuracy'])\n",
        "model.fit(x_train,y_train,epochs=100, batch_size=8,verbose=1)\n",
        "\n",
        "accuracy = moddel.evaluate(x_test,y_test)\n",
        "print(accuracy)"
      ],
      "metadata": {
        "id": "rhHtadcF_Ghe"
      },
      "execution_count": null,
      "outputs": []
    }
  ]
}